{
 "cells": [
  {
   "cell_type": "code",
   "execution_count": 1,
   "metadata": {},
   "outputs": [],
   "source": [
    "from openai import OpenAI\n",
    "from math import exp\n",
    "import numpy as np\n",
    "from IPython.display import display, HTML\n",
    "import os\n",
    "\n",
    "# load env\n",
    "from dotenv import load_dotenv\n",
    "load_dotenv()\n",
    "\n",
    "client = OpenAI(api_key=os.environ.get(\"OPENAI_API_KEY\"))"
   ]
  },
  {
   "cell_type": "code",
   "execution_count": 2,
   "metadata": {},
   "outputs": [],
   "source": [
    "def get_completion(\n",
    "    messages: list[dict[str, str]],\n",
    "    model: str = \"gpt-3.5-turbo\",\n",
    "    max_tokens=500,\n",
    "    temperature=0,\n",
    "    stop=None,\n",
    "    seed=123,\n",
    "    tools=None,\n",
    "    logprobs=None,  # whether to return log probabilities of the output tokens or not. If true, returns the log probabilities of each output token returned in the content of message..\n",
    "    top_logprobs=None,\n",
    ") -> str:\n",
    "    params = {\n",
    "        \"model\": model,\n",
    "        \"messages\": messages,\n",
    "        \"max_tokens\": max_tokens,\n",
    "        \"temperature\": temperature,\n",
    "        \"stop\": stop,\n",
    "        \"seed\": seed,\n",
    "        \"logprobs\": logprobs,\n",
    "        \"top_logprobs\": top_logprobs,\n",
    "    }\n",
    "    if tools:\n",
    "        params[\"tools\"] = tools\n",
    "\n",
    "    completion = client.chat.completions.create(**params)\n",
    "    return completion"
   ]
  },
  {
   "cell_type": "code",
   "execution_count": 17,
   "metadata": {},
   "outputs": [],
   "source": [
    "def single_inference_gpt(question):\n",
    "\n",
    "    input_text = question + \" Do not add anything else to your output: \"\n",
    "\n",
    "    API_RESPONSE = get_completion(\n",
    "        [{\"role\": \"user\", \"content\": input_text}],\n",
    "        model=\"gpt-3.5-turbo\",\n",
    "        logprobs=True,\n",
    "        temperature=1,\n",
    "        # top_logprobs=2,\n",
    "    )\n",
    "    generated_text = []\n",
    "    log_probs = []\n",
    "    linear_probs = []\n",
    "    # Extract generated text and tokens with log probabilities\n",
    "    # generated_text = API_RESPONSE.choices[0].message.content\n",
    "    tokens = API_RESPONSE.choices[0].logprobs.content\n",
    "    for each in tokens:\n",
    "        # print(each.token)\n",
    "        # print(each.logprob)\n",
    "        # print(exp(each.logprob)*100)\n",
    "        generated_text.append(each.token)\n",
    "        log_probs.append(each.logprob)\n",
    "        linear_probs.append(exp(each.logprob)*100)\n",
    "    # print(tokens)\n",
    "    # log_probs = API_RESPONSE.choices[0].logprobs.token_logprobs\n",
    "    # log_probs = \"\"\n",
    "    # linear_probs = \"\"\n",
    "    # Convert log probabilities to linear probabilities\n",
    "    # linear_probs = [exp(log_prob) * 100 for log_prob in log_probs]\n",
    "\n",
    "    # print(\"Generated text: \", generated_text)\n",
    "    # print(\"Tokens: \", tokens)\n",
    "    # print(\"Log probabilities: \", log_probs)\n",
    "    # print(\"Linear probabilities: \", linear_probs)\n",
    "\n",
    "    return generated_text, tokens, log_probs, linear_probs"
   ]
  },
  {
   "cell_type": "code",
   "execution_count": null,
   "metadata": {},
   "outputs": [
    {
     "name": "stderr",
     "output_type": "stream",
     "text": [
      "611it [07:32,  1.20it/s]"
     ]
    }
   ],
   "source": [
    "from tqdm import tqdm\n",
    "import pandas as pd\n",
    "\n",
    "df = pd.read_csv('../MMLU_5000_sample.csv')[:1000]\n",
    "\n",
    "responses = []\n",
    "\n",
    "for i, row in tqdm(df.iterrows()):\n",
    "    question = row['prompt']\n",
    "    answer = row['answer']\n",
    "    \n",
    "    response = single_inference_gpt(question)\n",
    "\n",
    "    responses.append(response)\n",
    "\n",
    "\n",
    "new_df = pd.DataFrame(responses, columns=['generated', 'log_probs', 'linear_probs'])\n",
    "new_df['correct_answer'] = df['answer']\n",
    "\n",
    "new_df.to_csv(\"gpt_lobprob_benchmark.csv\", index=False)\n"
   ]
  }
 ],
 "metadata": {
  "kernelspec": {
   "display_name": "myenv",
   "language": "python",
   "name": "python3"
  },
  "language_info": {
   "codemirror_mode": {
    "name": "ipython",
    "version": 3
   },
   "file_extension": ".py",
   "mimetype": "text/x-python",
   "name": "python",
   "nbconvert_exporter": "python",
   "pygments_lexer": "ipython3",
   "version": "3.10.14"
  }
 },
 "nbformat": 4,
 "nbformat_minor": 2
}
