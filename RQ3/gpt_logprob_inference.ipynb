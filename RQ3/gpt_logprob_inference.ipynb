{
 "cells": [
  {
   "cell_type": "code",
   "execution_count": 14,
   "metadata": {},
   "outputs": [],
   "source": [
    "from openai import OpenAI\n",
    "from math import exp\n",
    "import numpy as np\n",
    "from IPython.display import display, HTML\n",
    "import os\n",
    "import math\n",
    "\n",
    "# load env\n",
    "from dotenv import load_dotenv\n",
    "load_dotenv()\n",
    "\n",
    "client = OpenAI(api_key=os.environ.get(\"OPENAI_API_KEY\"))"
   ]
  },
  {
   "cell_type": "code",
   "execution_count": 15,
   "metadata": {},
   "outputs": [],
   "source": [
    "def get_completion(\n",
    "    messages: list[dict[str, str]],\n",
    "    model: str = \"gpt-3.5-turbo\",\n",
    "    max_tokens=500,\n",
    "    temperature=0,\n",
    "    stop=None,\n",
    "    seed=123,\n",
    "    tools=None,\n",
    "    logprobs=None,  # whether to return log probabilities of the output tokens or not. If true, returns the log probabilities of each output token returned in the content of message..\n",
    "    top_logprobs=None,\n",
    ") -> str:\n",
    "    params = {\n",
    "        \"model\": model,\n",
    "        \"messages\": messages,\n",
    "        \"max_tokens\": max_tokens,\n",
    "        \"temperature\": temperature,\n",
    "        \"stop\": stop,\n",
    "        \"seed\": seed,\n",
    "        \"logprobs\": logprobs,\n",
    "        \"top_logprobs\": top_logprobs,\n",
    "    }\n",
    "    if tools:\n",
    "        params[\"tools\"] = tools\n",
    "\n",
    "    completion = client.chat.completions.create(**params)\n",
    "    return completion"
   ]
  },
  {
   "cell_type": "code",
   "execution_count": 16,
   "metadata": {},
   "outputs": [],
   "source": [
    "def single_inference_gpt(question):\n",
    "\n",
    "    input_text = question + \" Do not add anything else to your output: \"\n",
    "\n",
    "    API_RESPONSE = get_completion(\n",
    "        [{\"role\": \"user\", \"content\": input_text}],\n",
    "        model=\"gpt-3.5-turbo\",\n",
    "        logprobs=True,\n",
    "        temperature=1,\n",
    "        top_logprobs=5,\n",
    "    )\n",
    "    # generated_text = []\n",
    "    # log_probs = []\n",
    "    # linear_probs = []\n",
    "    # top_log_probs = []\n",
    "    \n",
    "    # # Extract generated text and tokens with log probabilities\n",
    "    # tokens = API_RESPONSE['choices'][0]['logprobs']['tokens']\n",
    "    # token_logprobs = API_RESPONSE['choices'][0]['logprobs']['token_logprobs']\n",
    "    # token_top_logprobs = API_RESPONSE['choices'][0]['logprobs']['top_logprobs']\n",
    "    \n",
    "    # for i, token in enumerate(tokens):\n",
    "    #     generated_text.append(token)\n",
    "    #     log_probs.append(token_logprobs[i])\n",
    "    #     linear_probs.append(math.exp(token_logprobs[i]) * 100)\n",
    "    #     top_log_probs.append(token_top_logprobs[i])  # Top K log probabilities for each token\n",
    "\n",
    "    # return generated_text, tokens, log_probs, linear_probs, top_log_probs\n",
    "\n",
    "    generated_text = []\n",
    "    log_probs = []\n",
    "    linear_probs = []\n",
    "    top_log_probs = []\n",
    "    # Extract generated text and tokens with log probabilities\n",
    "    # generated_text = API_RESPONSE.choices[0].message.content\n",
    "    tokens = API_RESPONSE.choices[0].logprobs.content\n",
    "    for each in tokens:\n",
    "        # print(each.token)\n",
    "        # print(each.logprob)\n",
    "        # print(exp(each.logprob)*100)\n",
    "        generated_text.append(each.token)\n",
    "        log_probs.append(each.logprob)\n",
    "        linear_probs.append(exp(each.logprob)*100)\n",
    "        top_log_probs.append(each.top_logprobs)\n",
    "    # print(tokens)\n",
    "    # log_probs = API_RESPONSE.choices[0].logprobs.token_logprobs\n",
    "    # log_probs = \"\"\n",
    "    # linear_probs = \"\"\n",
    "    # Convert log probabilities to linear probabilities\n",
    "    # linear_probs = [exp(log_prob) * 100 for log_prob in log_probs]\n",
    "\n",
    "    # print(\"Generated text: \", generated_text)\n",
    "    # print(\"Tokens: \", tokens)\n",
    "    # print(\"Log probabilities: \", log_probs)\n",
    "    # print(\"Linear probabilities: \", linear_probs)\n",
    "\n",
    "    return generated_text, tokens, log_probs, linear_probs, top_log_probs"
   ]
  },
  {
   "cell_type": "code",
   "execution_count": 17,
   "metadata": {},
   "outputs": [
    {
     "name": "stderr",
     "output_type": "stream",
     "text": [
      "1000it [14:14,  1.17it/s]\n"
     ]
    }
   ],
   "source": [
    "from tqdm import tqdm\n",
    "import pandas as pd\n",
    "\n",
    "df = pd.read_csv('../Shuffled_Datasets/SHUFFLED_ScienceMCQ_5000_sample.csv')[:1000]\n",
    "\n",
    "responses = []\n",
    "\n",
    "for i, row in tqdm(df.iterrows()):\n",
    "    question = row['prompt']\n",
    "    answer = row['answer']\n",
    "    \n",
    "    response = single_inference_gpt(question)\n",
    "\n",
    "    responses.append(response)\n",
    "\n",
    "\n",
    "\n",
    "\n",
    "\n"
   ]
  },
  {
   "cell_type": "code",
   "execution_count": 18,
   "metadata": {},
   "outputs": [
    {
     "name": "stdout",
     "output_type": "stream",
     "text": [
      "Data saved to gpt_logprob_benchmark_ScienceMCQ_shuffled.json\n"
     ]
    }
   ],
   "source": [
    "import json\n",
    "\n",
    "# Prepare the data in hierarchical JSON format\n",
    "json_data = []\n",
    "for i, each in enumerate(responses):\n",
    "    generated_tokens, log_probs, linear_probs, top_log_probs = each[0], each[2], each[3], each[4]\n",
    "    correct_answer = df['answer'].iloc[i]  # Get the correct answer for the current question\n",
    "    \n",
    "    # Only process the first token\n",
    "    if generated_tokens:\n",
    "        first_token = generated_tokens[0]\n",
    "        first_log_prob = log_probs[0]\n",
    "        first_linear_prob = linear_probs[0]\n",
    "        first_top_alternatives = [\n",
    "            {\"token\": alt.token, \"log_probability\": alt.logprob}\n",
    "            for alt in top_log_probs[0]\n",
    "        ]\n",
    "        \n",
    "        # Append data for the first token only\n",
    "        token_entries = [{\n",
    "            \"generated_token\": first_token,\n",
    "            \"log_probability\": first_log_prob,\n",
    "            \"linear_probability\": first_linear_prob,\n",
    "            \"top_alternatives\": first_top_alternatives\n",
    "        }]\n",
    "    \n",
    "        # Append each question's data with only the first token's details\n",
    "        json_data.append({\n",
    "            f\"correct_answer_{i + 1}\": correct_answer,\n",
    "            \"tokens\": token_entries\n",
    "        })\n",
    "\n",
    "# Save to JSON file\n",
    "with open(\"gpt_logprob_benchmark_ScienceMCQ_shuffled.json\", \"w\") as json_file:\n",
    "    json.dump(json_data, json_file, indent=4)\n",
    "\n",
    "print(\"Data saved to gpt_logprob_benchmark_ScienceMCQ_shuffled.json\")\n"
   ]
  },
  {
   "cell_type": "code",
   "execution_count": 19,
   "metadata": {},
   "outputs": [],
   "source": [
    "# new_res = []\n",
    "\n",
    "# for each in responses:\n",
    "#     new_res.append([each[0], each[2], each[3]])\n",
    "#     # print(new_res)\n",
    "# new_df = pd.DataFrame(new_res, columns=['generated', 'log_probs', 'linear_probs'])\n",
    "# new_df['correct_answer'] = df['answer']\n",
    "\n",
    "# new_df.to_csv(\"gpt_lobprob_benchmark.csv\", index=False)"
   ]
  }
 ],
 "metadata": {
  "kernelspec": {
   "display_name": "Python 3",
   "language": "python",
   "name": "python3"
  },
  "language_info": {
   "codemirror_mode": {
    "name": "ipython",
    "version": 3
   },
   "file_extension": ".py",
   "mimetype": "text/x-python",
   "name": "python",
   "nbconvert_exporter": "python",
   "pygments_lexer": "ipython3",
   "version": "3.11.1"
  }
 },
 "nbformat": 4,
 "nbformat_minor": 2
}
