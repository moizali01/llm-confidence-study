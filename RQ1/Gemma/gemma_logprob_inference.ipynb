{
 "cells": [
  {
   "cell_type": "code",
   "execution_count": 1,
   "metadata": {},
   "outputs": [
    {
     "name": "stderr",
     "output_type": "stream",
     "text": [
      "/home/admin/.local/lib/python3.11/site-packages/tqdm/auto.py:21: TqdmWarning: IProgress not found. Please update jupyter and ipywidgets. See https://ipywidgets.readthedocs.io/en/stable/user_install.html\n",
      "  from .autonotebook import tqdm as notebook_tqdm\n",
      "Loading checkpoint shards: 100%|██████████| 4/4 [00:07<00:00,  1.79s/it]\n"
     ]
    }
   ],
   "source": [
    "import torch\n",
    "import transformers\n",
    "from transformers import AutoModelForCausalLM, AutoTokenizer\n",
    "import numpy as np\n",
    "from tqdm import tqdm\n",
    "# Load the model and tokenizer\n",
    "model_id = \"google/gemma-2-9b-it\"\n",
    "tokenizer = AutoTokenizer.from_pretrained(model_id)\n",
    "\n",
    "# Make sure pad_token_id is set properly\n",
    "pad_token_id = tokenizer.eos_token_id\n",
    "pad_token = tokenizer.eos_token\n",
    "model = AutoModelForCausalLM.from_pretrained(\n",
    "    model_id,\n",
    "    torch_dtype=torch.bfloat16,\n",
    "    device_map=\"auto\"\n",
    ")"
   ]
  },
  {
   "cell_type": "code",
   "execution_count": 2,
   "metadata": {},
   "outputs": [],
   "source": [
    "system_prompt = \"You are a highly accurate question-answering assistant. Answer concisely with only the best option (A, B, C, or D), formatted as 'Answer: X'. Do not add any other text to your answer, only stick to the options.\"\n",
    "\n",
    "def single_inference_llama(question, system_prompt=system_prompt):\n",
    "    # Tokenize the input question\n",
    "    tokenizer.add_special_tokens({'pad_token': pad_token})\n",
    "    inputs = tokenizer(system_prompt + \"\\n\\n\" + question, return_tensors=\"pt\", padding=True).to(model.device)\n",
    "    \n",
    "\n",
    "    # Generate response with limited tokens (for short answers)\n",
    "    with torch.no_grad():\n",
    "        outputs = model.generate(\n",
    "            inputs.input_ids,\n",
    "            attention_mask=inputs.attention_mask,\n",
    "            max_new_tokens=5,  # Limit to few tokens\n",
    "            pad_token_id=pad_token_id,\n",
    "            return_dict_in_generate=True,\n",
    "            output_scores=True,\n",
    "            temperature=1\n",
    "        )\n",
    "\n",
    "    # Extract only the generated tokens (after input tokens) as a list and decode each one\n",
    "    generated_tokens_list = outputs.sequences[0][len(inputs.input_ids[0]):]\n",
    "    decoded_tokens_list = [tokenizer.decode([token]) for token in generated_tokens_list]\n",
    "    # print(\"Decoded tokens:\", decoded_tokens_list)\n",
    "\n",
    "    # Extract logits for the generated tokens\n",
    "    logits = outputs.scores\n",
    "\n",
    "    # Calculate log probabilities for each token in the generated response\n",
    "    log_probs = []\n",
    "    linear_probs = []\n",
    "    for i, logits_per_token in enumerate(logits):\n",
    "        probs = torch.nn.functional.log_softmax(logits_per_token, dim=-1)\n",
    "        token_id = generated_tokens_list[i]\n",
    "        log_prob = probs[0, token_id].item()  # Get log probability of the token\n",
    "        log_probs.append(log_prob)\n",
    "        \n",
    "        # Convert log probability to linear probability (percentage)\n",
    "        linear_prob = np.exp(log_prob) * 100\n",
    "        linear_probs.append(linear_prob)\n",
    "\n",
    "    # Print logprobs and linear probabilities for each token\n",
    "    # print(\"\\nLogprobs and Linear Probabilities for each generated token:\")\n",
    "    # for token, log_prob, linear_prob in zip(generated_tokens_list, log_probs, linear_probs):\n",
    "    #     token_str = tokenizer.decode([token])\n",
    "    #     print(f\"Token: {token_str}, Logprob: {log_prob}, Linear Probability: {linear_prob:.2f}%\")\n",
    "\n",
    "    return decoded_tokens_list, log_probs, linear_probs\n",
    "\n",
    "\n"
   ]
  },
  {
   "cell_type": "code",
   "execution_count": 3,
   "metadata": {},
   "outputs": [
    {
     "name": "stderr",
     "output_type": "stream",
     "text": [
      "1000it [11:36,  1.44it/s]\n"
     ]
    }
   ],
   "source": [
    "\n",
    "import pandas as pd\n",
    "\n",
    "df = pd.read_csv('/scratch/essa/Confidence_LLM/llm-confidence-study-main/MMLU_5000_sample.csv')[:1000]\n",
    "\n",
    "responses = []\n",
    "\n",
    "for i, row in tqdm(df.iterrows()):\n",
    "    question = row['prompt']\n",
    "    answer = row['answer']\n",
    "\n",
    "    response = single_inference_llama(question)\n",
    "\n",
    "    responses.append(response)\n",
    "\n",
    "\n",
    "new_df = pd.DataFrame(responses, columns=['generated', 'log_probs', 'linear_probs'])\n",
    "new_df['correct_answer'] = df['answer']\n",
    "\n",
    "new_df.to_csv(\"gemma_lobprob_benchmark_mmlu.csv\", index=False)"
   ]
  },
  {
   "cell_type": "code",
   "execution_count": null,
   "metadata": {},
   "outputs": [
    {
     "name": "stderr",
     "output_type": "stream",
     "text": [
      "1000it [11:27,  1.46it/s]\n"
     ]
    }
   ],
   "source": [
    "\n",
    "import pandas as pd\n",
    "\n",
    "df = pd.read_csv('/scratch/essa/Confidence_LLM/llm-confidence-study-main/MedMCQA_5000_sample.csv')[:1000]\n",
    "\n",
    "responses = []\n",
    "\n",
    "for i, row in tqdm(df.iterrows()):\n",
    "    question = row['prompt']\n",
    "    answer = row['answer']\n",
    "\n",
    "    response = single_inference_llama(question)\n",
    "\n",
    "    responses.append(response)\n",
    "\n",
    "\n",
    "new_df = pd.DataFrame(responses, columns=['generated', 'log_probs', 'linear_probs'])\n",
    "new_df['correct_answer'] = df['answer']\n",
    "\n",
    "new_df.to_csv(\"gemma_lobprob_benchmark_medmcqa.csv\", index=False)"
   ]
  },
  {
   "cell_type": "code",
   "execution_count": 4,
   "metadata": {},
   "outputs": [
    {
     "name": "stderr",
     "output_type": "stream",
     "text": [
      "1000it [14:17,  1.17it/s]\n"
     ]
    }
   ],
   "source": [
    "\n",
    "import pandas as pd\n",
    "\n",
    "df = pd.read_csv('/scratch/essa/Confidence_LLM/llm-confidence-study-main/ScienceMCQ_5000_sample.csv')[:1000]\n",
    "\n",
    "responses = []\n",
    "\n",
    "for i, row in tqdm(df.iterrows()):\n",
    "    question = row['prompt']\n",
    "    answer = row['answer']\n",
    "\n",
    "    response = single_inference_llama(question)\n",
    "\n",
    "    responses.append(response)\n",
    "\n",
    "\n",
    "new_df = pd.DataFrame(responses, columns=['generated', 'log_probs', 'linear_probs'])\n",
    "new_df['correct_answer'] = df['answer']\n",
    "\n",
    "new_df.to_csv(\"gemma_lobprob_benchmark_sciencemcq.csv\", index=False)"
   ]
  },
  {
   "cell_type": "markdown",
   "metadata": {},
   "source": [
    "### Shufflled Data"
   ]
  },
  {
   "cell_type": "code",
   "execution_count": 5,
   "metadata": {},
   "outputs": [
    {
     "name": "stderr",
     "output_type": "stream",
     "text": [
      "1000it [11:27,  1.45it/s]\n"
     ]
    }
   ],
   "source": [
    "\n",
    "import pandas as pd\n",
    "\n",
    "df = pd.read_csv('/scratch/essa/Confidence_LLM/llm-confidence-study-main/Shuffled_Datasets/SHUFFLED_MedMCQA_5000_sample.csv')[:1000]\n",
    "\n",
    "responses = []\n",
    "\n",
    "for i, row in tqdm(df.iterrows()):\n",
    "    question = row['prompt']\n",
    "    answer = row['answer']\n",
    "\n",
    "    response = single_inference_llama(question)\n",
    "\n",
    "    responses.append(response)\n",
    "\n",
    "\n",
    "new_df = pd.DataFrame(responses, columns=['generated', 'log_probs', 'linear_probs'])\n",
    "new_df['correct_answer'] = df['answer']\n",
    "\n",
    "new_df.to_csv(\"gemmaa_lobprob_benchmark_medmcqa_shuffled.csv\", index=False)"
   ]
  },
  {
   "cell_type": "code",
   "execution_count": 6,
   "metadata": {},
   "outputs": [
    {
     "name": "stderr",
     "output_type": "stream",
     "text": [
      "0it [00:00, ?it/s]"
     ]
    },
    {
     "name": "stderr",
     "output_type": "stream",
     "text": [
      "1000it [12:01,  1.39it/s]\n"
     ]
    }
   ],
   "source": [
    "\n",
    "import pandas as pd\n",
    "\n",
    "df = pd.read_csv('/scratch/essa/Confidence_LLM/llm-confidence-study-main/Shuffled_Datasets/SHUFFLED_MMLU_5000_sample.csv')[:1000]\n",
    "\n",
    "responses = []\n",
    "\n",
    "for i, row in tqdm(df.iterrows()):\n",
    "    question = row['prompt']\n",
    "    answer = row['answer']\n",
    "\n",
    "    response = single_inference_llama(question)\n",
    "\n",
    "    responses.append(response)\n",
    "\n",
    "\n",
    "new_df = pd.DataFrame(responses, columns=['generated', 'log_probs', 'linear_probs'])\n",
    "new_df['correct_answer'] = df['answer']\n",
    "\n",
    "new_df.to_csv(\"gemma_lobprob_benchmark_mmlu_shuffled.csv\", index=False)"
   ]
  },
  {
   "cell_type": "code",
   "execution_count": 7,
   "metadata": {},
   "outputs": [
    {
     "name": "stderr",
     "output_type": "stream",
     "text": [
      "1000it [14:29,  1.15it/s]\n"
     ]
    }
   ],
   "source": [
    "\n",
    "import pandas as pd\n",
    "\n",
    "df = pd.read_csv('/scratch/essa/Confidence_LLM/llm-confidence-study-main/Shuffled_Datasets/SHUFFLED_ScienceMCQ_5000_sample.csv')[:1000]\n",
    "\n",
    "responses = []\n",
    "\n",
    "for i, row in tqdm(df.iterrows()):\n",
    "    question = row['prompt']\n",
    "    answer = row['answer']\n",
    "\n",
    "    response = single_inference_llama(question)\n",
    "\n",
    "    responses.append(response)\n",
    "\n",
    "\n",
    "new_df = pd.DataFrame(responses, columns=['generated', 'log_probs', 'linear_probs'])\n",
    "new_df['correct_answer'] = df['answer']\n",
    "\n",
    "new_df.to_csv(\"gemma_lobprob_benchmark_sciencemcq_shuffled.csv\", index=False)"
   ]
  }
 ],
 "metadata": {
  "kernelspec": {
   "display_name": "Python 3",
   "language": "python",
   "name": "python3"
  },
  "language_info": {
   "codemirror_mode": {
    "name": "ipython",
    "version": 3
   },
   "file_extension": ".py",
   "mimetype": "text/x-python",
   "name": "python",
   "nbconvert_exporter": "python",
   "pygments_lexer": "ipython3",
   "version": "3.11.10"
  }
 },
 "nbformat": 4,
 "nbformat_minor": 2
}
