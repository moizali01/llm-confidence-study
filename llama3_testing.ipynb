{
 "cells": [
  {
   "cell_type": "code",
   "execution_count": null,
   "metadata": {
    "vscode": {
     "languageId": "plaintext"
    }
   },
   "outputs": [],
   "source": [
    "import torch\n",
    "import transformers\n",
    "from transformers import AutoModelForCausalLM, AutoTokenizer\n",
    "\n",
    "# Load the model and tokenizer\n",
    "model_id = \"meta-llama/Meta-Llama-3.1-8B-Instruct\"\n",
    "tokenizer = AutoTokenizer.from_pretrained(model_id)\n",
    "\n",
    "# Make sure pad_token_id is set properly\n",
    "pad_token_id = tokenizer.eos_token_id\n",
    "\n",
    "model = AutoModelForCausalLM.from_pretrained(\n",
    "    model_id,\n",
    "    torch_dtype=torch.bfloat16,\n",
    "    device_map=\"auto\"\n",
    ")"
   ]
  },
  {
   "cell_type": "code",
   "execution_count": null,
   "metadata": {
    "vscode": {
     "languageId": "plaintext"
    }
   },
   "outputs": [],
   "source": [
    "import numpy as np\n",
    "from IPython.display import HTML, display\n",
    "\n",
    "# Prepare input question, prompt asking directly for the answer\n",
    "question = \"\"\"Question: An important source of information on the credit rating of retail businesses is\n",
    "\n",
    "A) the Retail Merchants Association\n",
    "B) the local chamber of commerce\n",
    "C) Dun & Bradstreet, Inc.\n",
    "D) the United States Retail Credit Association\n",
    "\n",
    "Just answer the best option (A, B, C, or D), do not add anything else to your output:\"\"\"\n",
    "\n",
    "# Tokenize the input question\n",
    "inputs = tokenizer(question, return_tensors=\"pt\", padding=True).to(model.device)\n",
    "\n",
    "# Generate response with limited tokens (for short answers)\n",
    "with torch.no_grad():\n",
    "    outputs = model.generate(\n",
    "        inputs.input_ids,\n",
    "        attention_mask=inputs.attention_mask,\n",
    "        max_new_tokens=5,  # Limit to few tokens\n",
    "        pad_token_id=pad_token_id,\n",
    "        return_dict_in_generate=True,\n",
    "        output_scores=True,\n",
    "        temperature=1\n",
    "    )\n",
    "\n",
    "# Decode the generated text (should only be one letter now)\n",
    "generated_tokens = outputs.sequences[0]\n",
    "generated_text = tokenizer.decode(generated_tokens, skip_special_tokens=True).strip()\n",
    "print(\"Generated answer:\", generated_text)\n",
    "\n",
    "# Extract logits for the generated tokens\n",
    "logits = outputs.scores\n",
    "\n",
    "# Calculate log probabilities for each token in the generated response\n",
    "log_probs = []\n",
    "linear_probs = []\n",
    "for i, logits_per_token in enumerate(logits):\n",
    "    probs = torch.nn.functional.log_softmax(logits_per_token, dim=-1)\n",
    "    token_id = generated_tokens[i + len(inputs.input_ids[0])]\n",
    "    log_prob = probs[0, token_id].item()  # Get log probability of the token\n",
    "    log_probs.append(log_prob)\n",
    "    \n",
    "    # Convert log probability to linear probability (percentage)\n",
    "    linear_prob = np.exp(log_prob) * 100\n",
    "    linear_probs.append(linear_prob)\n",
    "\n",
    "# Print logprobs and linear probabilities for each token\n",
    "print(\"\\nLogprobs and Linear Probabilities for each generated token:\")\n",
    "for token, log_prob, linear_prob in zip(generated_tokens[len(inputs.input_ids[0]):], log_probs, linear_probs):\n",
    "    token_str = tokenizer.decode([token])\n",
    "    print(f\"Token: {token_str}, Logprob: {log_prob}, Linear Probability: {linear_prob:.2f}%\")\n"
   ]
  }
 ],
 "metadata": {
  "language_info": {
   "name": "python"
  }
 },
 "nbformat": 4,
 "nbformat_minor": 2
}
