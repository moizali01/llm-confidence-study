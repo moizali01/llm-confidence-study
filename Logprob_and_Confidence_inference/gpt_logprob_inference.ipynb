{
 "cells": [
  {
   "cell_type": "code",
   "execution_count": 1,
   "metadata": {},
   "outputs": [],
   "source": [
    "from openai import OpenAI\n",
    "from math import exp\n",
    "import numpy as np\n",
    "from IPython.display import display, HTML\n",
    "import os\n",
    "\n",
    "# load env\n",
    "from dotenv import load_dotenv\n",
    "load_dotenv()\n",
    "\n",
    "client = OpenAI(api_key=os.environ.get(\"OPENAI_API_KEY\"))"
   ]
  },
  {
   "cell_type": "code",
   "execution_count": 2,
   "metadata": {},
   "outputs": [],
   "source": [
    "def get_completion(\n",
    "    messages: list[dict[str, str]],\n",
    "    model: str = \"gpt-3.5-turbo\",\n",
    "    max_tokens=500,\n",
    "    temperature=0,\n",
    "    stop=None,\n",
    "    seed=123,\n",
    "    tools=None,\n",
    "    logprobs=None,  # whether to return log probabilities of the output tokens or not. If true, returns the log probabilities of each output token returned in the content of message..\n",
    "    top_logprobs=None,\n",
    ") -> str:\n",
    "    params = {\n",
    "        \"model\": model,\n",
    "        \"messages\": messages,\n",
    "        \"max_tokens\": max_tokens,\n",
    "        \"temperature\": temperature,\n",
    "        \"stop\": stop,\n",
    "        \"seed\": seed,\n",
    "        \"logprobs\": logprobs,\n",
    "        \"top_logprobs\": top_logprobs,\n",
    "    }\n",
    "    if tools:\n",
    "        params[\"tools\"] = tools\n",
    "\n",
    "    completion = client.chat.completions.create(**params)\n",
    "    return completion"
   ]
  },
  {
   "cell_type": "code",
   "execution_count": 3,
   "metadata": {},
   "outputs": [],
   "source": [
    "def single_inference_gpt(question):\n",
    "\n",
    "    input_text = question + \"Also Give a confidence measure of your answer, from 0 to 1. Do not add anything else to your output: \"\n",
    "\n",
    "    API_RESPONSE = get_completion(\n",
    "        [{\"role\": \"user\", \"content\": input_text}],\n",
    "        model=\"gpt-3.5-turbo\",\n",
    "        logprobs=True,\n",
    "        temperature=1,\n",
    "        # top_logprobs=2,\n",
    "    )\n",
    "    generated_text = []\n",
    "    log_probs = []\n",
    "    linear_probs = []\n",
    "    # Extract generated text and tokens with log probabilities\n",
    "    # generated_text = API_RESPONSE.choices[0].message.content\n",
    "    tokens = API_RESPONSE.choices[0].logprobs.content\n",
    "    for each in tokens:\n",
    "        # print(each.token)\n",
    "        # print(each.logprob)\n",
    "        # print(exp(each.logprob)*100)\n",
    "        generated_text.append(each.token)\n",
    "        log_probs.append(each.logprob)\n",
    "        linear_probs.append(exp(each.logprob)*100)\n",
    "    # print(tokens)\n",
    "    # log_probs = API_RESPONSE.choices[0].logprobs.token_logprobs\n",
    "    # log_probs = \"\"\n",
    "    # linear_probs = \"\"\n",
    "    # Convert log probabilities to linear probabilities\n",
    "    # linear_probs = [exp(log_prob) * 100 for log_prob in log_probs]\n",
    "\n",
    "    # print(\"Generated text: \", generated_text)\n",
    "    # print(\"Tokens: \", tokens)\n",
    "    # print(\"Log probabilities: \", log_probs)\n",
    "    # print(\"Linear probabilities: \", linear_probs)\n",
    "\n",
    "    return generated_text, tokens, log_probs, linear_probs"
   ]
  },
  {
   "cell_type": "code",
   "execution_count": 4,
   "metadata": {},
   "outputs": [
    {
     "name": "stderr",
     "output_type": "stream",
     "text": [
      "1000it [16:33,  1.01it/s]\n"
     ]
    }
   ],
   "source": [
    "from tqdm import tqdm\n",
    "import pandas as pd\n",
    "\n",
    "df = pd.read_csv('../MMLU_5000_sample.csv')[:1000]\n",
    "\n",
    "responses = []\n",
    "\n",
    "for i, row in tqdm(df.iterrows()):\n",
    "    question = row['prompt']\n",
    "    answer = row['answer']\n",
    "    \n",
    "    response = single_inference_gpt(question)\n",
    "\n",
    "    responses.append(response)\n",
    "\n",
    "\n",
    "\n",
    "\n",
    "\n"
   ]
  },
  {
   "cell_type": "code",
   "execution_count": 7,
   "metadata": {},
   "outputs": [
    {
     "data": {
      "text/plain": [
       "(['D',\n",
       "  ')',\n",
       "  ' ',\n",
       "  '451',\n",
       "  ' degrees',\n",
       "  '\\n',\n",
       "  'Conf',\n",
       "  'idence',\n",
       "  ':',\n",
       "  ' ',\n",
       "  '0',\n",
       "  '.',\n",
       "  '9'],\n",
       " [ChatCompletionTokenLogprob(token='D', bytes=[68], logprob=-0.0033709155, top_logprobs=[]),\n",
       "  ChatCompletionTokenLogprob(token=')', bytes=[41], logprob=-3.1281633e-07, top_logprobs=[]),\n",
       "  ChatCompletionTokenLogprob(token=' ', bytes=[32], logprob=-4.8425554e-06, top_logprobs=[]),\n",
       "  ChatCompletionTokenLogprob(token='451', bytes=[52, 53, 49], logprob=-1.640531e-05, top_logprobs=[]),\n",
       "  ChatCompletionTokenLogprob(token=' degrees', bytes=[32, 100, 101, 103, 114, 101, 101, 115], logprob=-9.0883464e-07, top_logprobs=[]),\n",
       "  ChatCompletionTokenLogprob(token='\\n', bytes=[10], logprob=-0.037747882, top_logprobs=[]),\n",
       "  ChatCompletionTokenLogprob(token='Conf', bytes=[67, 111, 110, 102], logprob=-0.00013607845, top_logprobs=[]),\n",
       "  ChatCompletionTokenLogprob(token='idence', bytes=[105, 100, 101, 110, 99, 101], logprob=0.0, top_logprobs=[]),\n",
       "  ChatCompletionTokenLogprob(token=':', bytes=[58], logprob=-0.0005382588, top_logprobs=[]),\n",
       "  ChatCompletionTokenLogprob(token=' ', bytes=[32], logprob=-5.2001665e-06, top_logprobs=[]),\n",
       "  ChatCompletionTokenLogprob(token='0', bytes=[48], logprob=-0.004400802, top_logprobs=[]),\n",
       "  ChatCompletionTokenLogprob(token='.', bytes=[46], logprob=-1.2664457e-06, top_logprobs=[]),\n",
       "  ChatCompletionTokenLogprob(token='9', bytes=[57], logprob=-0.03464374, top_logprobs=[])],\n",
       " [-0.0033709155,\n",
       "  -3.1281633e-07,\n",
       "  -4.8425554e-06,\n",
       "  -1.640531e-05,\n",
       "  -9.0883464e-07,\n",
       "  -0.037747882,\n",
       "  -0.00013607845,\n",
       "  0.0,\n",
       "  -0.0005382588,\n",
       "  -5.2001665e-06,\n",
       "  -0.004400802,\n",
       "  -1.2664457e-06,\n",
       "  -0.03464374],\n",
       " [99.66347596570382,\n",
       "  99.99996871837189,\n",
       "  99.99951574563252,\n",
       "  99.99835948245664,\n",
       "  99.9999091165773,\n",
       "  96.29556887516979,\n",
       "  99.98639308082524,\n",
       "  100.0,\n",
       "  99.94618860352804,\n",
       "  99.99947998470209,\n",
       "  99.56088673396381,\n",
       "  99.99987335551019,\n",
       "  96.59494841283332])"
      ]
     },
     "execution_count": 7,
     "metadata": {},
     "output_type": "execute_result"
    }
   ],
   "source": [
    "responses[2]"
   ]
  },
  {
   "cell_type": "code",
   "execution_count": 6,
   "metadata": {},
   "outputs": [],
   "source": [
    "new_res = []\n",
    "\n",
    "for each in responses:\n",
    "    new_res.append([each[0], each[2], each[3]])\n",
    "    # print(new_res)\n",
    "new_df = pd.DataFrame(new_res, columns=['generated', 'log_probs', 'linear_probs'])\n",
    "new_df['correct_answer'] = df['answer']\n",
    "\n",
    "new_df.to_csv(\"gpt_confidence_benchmark.csv\", index=False)"
   ]
  }
 ],
 "metadata": {
  "kernelspec": {
   "display_name": "Python 3",
   "language": "python",
   "name": "python3"
  },
  "language_info": {
   "codemirror_mode": {
    "name": "ipython",
    "version": 3
   },
   "file_extension": ".py",
   "mimetype": "text/x-python",
   "name": "python",
   "nbconvert_exporter": "python",
   "pygments_lexer": "ipython3",
   "version": "3.10.14"
  }
 },
 "nbformat": 4,
 "nbformat_minor": 2
}
